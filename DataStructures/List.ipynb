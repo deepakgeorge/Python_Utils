{
 "cells": [
  {
   "cell_type": "code",
   "execution_count": 1,
   "metadata": {
    "collapsed": true
   },
   "outputs": [],
   "source": [
    "# list can have heterogenous datatype"
   ]
  },
  {
   "cell_type": "code",
   "execution_count": 13,
   "metadata": {},
   "outputs": [],
   "source": [
    "list_char = [1,2,'o','k','i',3]\n",
    "list_num = [1,2,45,6,7,2,90,23,435]"
   ]
  },
  {
   "cell_type": "code",
   "execution_count": 14,
   "metadata": {},
   "outputs": [
    {
     "name": "stdout",
     "output_type": "stream",
     "text": [
      "[1, 2, 45, 6, 7, 2, 90, 23, 435, 11]\n"
     ]
    }
   ],
   "source": [
    "list_num.append(11) # Add 11 to the list, by default adds to the last position\n",
    "print(list_num)"
   ]
  },
  {
   "cell_type": "code",
   "execution_count": 6,
   "metadata": {},
   "outputs": [],
   "source": [
    "list_num.append([99,34]) # Add 11 to the list, by default adds to the last position\n"
   ]
  },
  {
   "cell_type": "code",
   "execution_count": 7,
   "metadata": {},
   "outputs": [],
   "source": [
    "list_num.extend([99,34]) # Add 11 to the list, by default adds to the last position"
   ]
  },
  {
   "cell_type": "code",
   "execution_count": 8,
   "metadata": {},
   "outputs": [
    {
     "name": "stdout",
     "output_type": "stream",
     "text": [
      "[11, 1, 2, 45, 6, 7, '2', '90', '23', '435', [99, 34], 99, 34]\n"
     ]
    }
   ],
   "source": [
    "list_num.insert(0, 11)\n",
    "print(list_num)"
   ]
  },
  {
   "cell_type": "code",
   "execution_count": 9,
   "metadata": {},
   "outputs": [
    {
     "name": "stdout",
     "output_type": "stream",
     "text": [
      "[1, 2, 'k', 'i', 'e']\n"
     ]
    }
   ],
   "source": [
    "list_char.remove('o') # Remove the first occurence of 'o' from list_char\n",
    "print(list_char)"
   ]
  },
  {
   "cell_type": "code",
   "execution_count": 10,
   "metadata": {},
   "outputs": [
    {
     "name": "stdout",
     "output_type": "stream",
     "text": [
      "[1, 2, 'k', 'e']\n"
     ]
    }
   ],
   "source": [
    "list_char.pop(-2) # Removes the item at the specified position\n",
    "print(list_char)"
   ]
  },
  {
   "cell_type": "code",
   "execution_count": 16,
   "metadata": {},
   "outputs": [
    {
     "name": "stdout",
     "output_type": "stream",
     "text": [
      "[1, 2, 2, 6, 7, 11, 23, 45, 90, 435]\n"
     ]
    }
   ],
   "source": [
    "list_num.sort() # In-place sorting\n",
    "print(list_num)"
   ]
  },
  {
   "cell_type": "code",
   "execution_count": 12,
   "metadata": {},
   "outputs": [
    {
     "name": "stdout",
     "output_type": "stream",
     "text": [
      "[34, 99, [99, 34], '435', '23', '90', '2', 45, 11, 7, 6, 2, 1]\n"
     ]
    }
   ],
   "source": [
    "list_num.reverse()\n",
    "print(list_num)\n"
   ]
  }
 ],
 "metadata": {
  "kernelspec": {
   "display_name": "Python 2",
   "language": "python",
   "name": "python2"
  },
  "language_info": {
   "codemirror_mode": {
    "name": "ipython",
    "version": 2
   },
   "file_extension": ".py",
   "mimetype": "text/x-python",
   "name": "python",
   "nbconvert_exporter": "python",
   "pygments_lexer": "ipython2",
   "version": "2.7.6"
  }
 },
 "nbformat": 4,
 "nbformat_minor": 0
}
