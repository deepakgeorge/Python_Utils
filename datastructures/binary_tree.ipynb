{
  "cells": [
    {
      "cell_type": "markdown",
      "metadata": {
        "collapsed": true,
        "pycharm": {}
      },
      "source": [
        "# Binary Tree traversal\n",
        "1. PreOrder\n",
        "2. InOrder\n",
        "3. PostOrder"
      ]
    },
    {
      "cell_type": "markdown",
      "metadata": {
        "pycharm": {}
      },
      "source": [
        "# Binary Tree traversal\n",
        "1. PreOrder\n",
        "2. InOrder\n",
        "3. PostOrder"
      ]
    },
    {
      "cell_type": "markdown",
      "metadata": {
        "pycharm": {}
      },
      "source": [
        "PreOrder traversal - visit the parent first and then left and right children;\n",
        "InOrder traversal - visit the left child, then the parent and the right child;\n",
        "PostOrder traversal - visit left child, then the right child and then the parent;\n",
        "\n",
        "INORDER - It means everything is in order i.e. we traverse from left to parent to right. \n",
        "Take an example of a line segment with left end point A and right end point B. Take a mid point M on AB. Now inorder means starting from left (A) going to mid (M) and reaching right (R). As simple as that, everything is in order. \n",
        "\n",
        "PREORDER means before order. Now what is before? Since I already said the names are kept keeping in mind the parent/root element so the parent/ROOT is before all the elements. So the parent/root will be processed before any element. But remember, the left node will always be processed before right node. \n",
        "    \n",
        "POSTORDER. The Parent/ROOT element will be processed at last after LEFT and RIGHT nodes have been processed."
      ]
    },
    {
      "cell_type": "code",
      "execution_count": null,
      "metadata": {
        "pycharm": {}
      },
      "outputs": [],
      "source": []
    },
    {
      "cell_type": "markdown",
      "metadata": {
        "pycharm": {}
      },
      "source": [
        "# Reference\n",
        "- https://medium.com/the-renaissance-developer/learning-tree-data-structure-27c6bb363051\n",
        "- https://www.quora.com/How-do-I-remember-preorder-postorder-and-inorder-traversal\n",
        "- https://www.cs.cmu.edu/~adamchik/15-121/lectures/Trees/trees.html"
      ]
    },
    {
      "cell_type": "code",
      "execution_count": null,
      "metadata": {
        "pycharm": {}
      },
      "outputs": [],
      "source": []
    }
  ],
  "metadata": {
    "kernelspec": {
      "name": "python3",
      "language": "python",
      "display_name": "Python 3"
    },
    "language_info": {
      "codemirror_mode": {
        "name": "ipython",
        "version": 2
      },
      "file_extension": ".py",
      "mimetype": "text/x-python",
      "name": "python",
      "nbconvert_exporter": "python",
      "pygments_lexer": "ipython2",
      "version": "2.7.6"
    }
  },
  "nbformat": 4,
  "nbformat_minor": 0
}