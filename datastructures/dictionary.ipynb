{
  "cells": [
    {
      "cell_type": "markdown",
      "metadata": {
        "collapsed": true,
        "pycharm": {}
      },
      "source": [
        "# Dict Properties"
      ]
    },
    {
      "cell_type": "code",
      "execution_count": null,
      "metadata": {
        "pycharm": {}
      },
      "outputs": [],
      "source": [
        "Hash table is implemented as dictionary in python"
      ]
    },
    {
      "cell_type": "markdown",
      "metadata": {
        "pycharm": {}
      },
      "source": [
        "### Dict removes duplicate keys\n"
      ]
    },
    {
      "cell_type": "code",
      "execution_count": 2,
      "metadata": {
        "pycharm": {}
      },
      "outputs": [],
      "source": [
        "dict \u003d {\u0027a\u0027:100, \u0027a\u0027:78}"
      ]
    },
    {
      "cell_type": "code",
      "execution_count": 5,
      "metadata": {
        "pycharm": {}
      },
      "outputs": [
        {
          "ename": "TypeError",
          "evalue": "\u0027dict\u0027 object is not callable",
          "traceback": [
            "\u001b[1;31m---------------------------------------------------------------------------\u001b[0m",
            "\u001b[1;31mTypeError\u001b[0m                                 Traceback (most recent call last)",
            "\u001b[1;32m\u003cipython-input-5-f299a24130f8\u003e\u001b[0m in \u001b[0;36m\u003cmodule\u003e\u001b[1;34m()\u001b[0m\n\u001b[1;32m----\u003e 1\u001b[1;33m \u001b[0mordering\u001b[0m \u001b[1;33m\u003d\u001b[0m \u001b[0mdict\u001b[0m\u001b[1;33m(\u001b[0m\u001b[0mc\u001b[0m\u001b[1;33m\u003d\u001b[0m\u001b[1;36m0\u001b[0m\u001b[1;33m,\u001b[0m \u001b[0mb\u001b[0m\u001b[1;33m\u003d\u001b[0m\u001b[1;36m1\u001b[0m\u001b[1;33m,\u001b[0m \u001b[0ma\u001b[0m\u001b[1;33m\u003d\u001b[0m\u001b[1;36m3\u001b[0m\u001b[1;33m,\u001b[0m \u001b[0mt\u001b[0m\u001b[1;33m\u003d\u001b[0m\u001b[1;36m3\u001b[0m\u001b[1;33m,\u001b[0m \u001b[0mm\u001b[0m\u001b[1;33m\u003d\u001b[0m\u001b[1;36m4\u001b[0m\u001b[1;33m)\u001b[0m\u001b[1;33m\u001b[0m\u001b[0m\n\u001b[0m",
            "\u001b[1;31mTypeError\u001b[0m: \u0027dict\u0027 object is not callable"
          ],
          "output_type": "error"
        }
      ],
      "source": [
        "ordering \u003d dict(c\u003d0, b\u003d1, a\u003d3, t\u003d3, m\u003d4)"
      ]
    },
    {
      "cell_type": "markdown",
      "metadata": {
        "pycharm": {}
      },
      "source": [
        "# Merge two Python dictionaries"
      ]
    },
    {
      "cell_type": "markdown",
      "metadata": {
        "pycharm": {}
      },
      "source": [
        "For dictionaries x and y, z becomes a merged dictionary with values from y replacing those from x.\n",
        "\n",
        "    In Python 3.5 or greater, :"
      ]
    },
    {
      "cell_type": "code",
      "execution_count": 1,
      "metadata": {
        "pycharm": {
          "is_executing": false
        }
      },
      "outputs": [
        {
          "name": "stdout",
          "text": [
            "{\u0027k1\u0027: \u0027v1\u0027, \u0027k2\u0027: \u0027v2\u0027, \u0027k3\u0027: \u0027v3\u0027, \u0027k4\u0027: \u0027v4\u0027}\n{\u0027foo\u0027: \u0027bar\u0027, \u0027baz\u0027: \u0027qux\u0027, \u0027k3\u0027: \u0027v3\u0027, \u0027k4\u0027: \u0027v4\u0027}\n"
          ],
          "output_type": "stream"
        }
      ],
      "source": [
        "x \u003d {\u0027k1\u0027: \u0027v1\u0027, \u0027k2\u0027: \u0027v2\u0027}\n",
        "y \u003d {\u0027k3\u0027: \u0027v3\u0027, \u0027k4\u0027: \u0027v4\u0027}\n",
        "z \u003d {**x, **y}\n",
        "print(z)\n",
        "w \u003d {\u0027foo\u0027: \u0027bar\u0027, \u0027baz\u0027: \u0027qux\u0027, **y}  # merge a dict with literal values\n",
        "print(w)"
      ]
    },
    {
      "cell_type": "markdown",
      "metadata": {
        "pycharm": {}
      },
      "source": [
        "In Python 2, (or 3.4 or lower) write a function:"
      ]
    },
    {
      "cell_type": "code",
      "execution_count": 9,
      "metadata": {
        "pycharm": {}
      },
      "outputs": [
        {
          "name": "stdout",
          "output_type": "stream",
          "text": [
            "{\u0027k1\u0027: \u0027v1\u0027, \u0027k2\u0027: \u0027v2\u0027, \u0027k3\u0027: \u0027v3\u0027, \u0027k4\u0027: \u0027v4\u0027}\n"
          ]
        }
      ],
      "source": [
        "def merge_two_dicts(x, y):\n",
        "    z \u003d x.copy()   # start with x\u0027s keys and values\n",
        "    z.update(y)    # modifies z with y\u0027s keys and values \u0026 returns None\n",
        "    return z\n",
        "z \u003d merge_two_dicts(x, y)\n",
        "print(z)"
      ]
    }
  ],
  "metadata": {
    "kernelspec": {
      "name": "python3",
      "language": "python",
      "display_name": "Python 3"
    },
    "language_info": {
      "codemirror_mode": {
        "name": "ipython",
        "version": 2
      },
      "file_extension": ".py",
      "mimetype": "text/x-python",
      "name": "python",
      "nbconvert_exporter": "python",
      "pygments_lexer": "ipython2",
      "version": "2.7.6"
    }
  },
  "nbformat": 4,
  "nbformat_minor": 0
}