{
 "cells": [
  {
   "cell_type": "markdown",
   "metadata": {},
   "source": [
    "# Pass by assignment"
   ]
  },
  {
   "cell_type": "markdown",
   "metadata": {},
   "source": [
    "Arguments in Python are \"Passed by assignment\". The rationale behind this is twofold:\n",
    "\n",
    "1. the parameter passed in is actually a reference to an object (but the reference is passed by value)\n",
    "\t* Every time we pass in an object into a function in Python, what we are doing is not passing in a box that contains a object but we are passing in a copy of the box that contains an address to the specific object, i.e. a reference to an object. And when we decide to change that box , if it’s mutable we change the original as well because our box contains an address to that same object. Otherwise if we change the passed in copied box within the function (re-assign) Python does some magic and creates new objects that the box address points to.\n",
    "\n",
    "2. Some data types are mutable, but others aren't so:\n",
    "\n",
    "       * If you pass a mutable object into a method, the method gets a reference to that same object and you can mutate it to your heart's delight, but if you rebind the reference in the method, the outer scope will know nothing about it, and after you're done, the outer reference will still point at the original object.\n",
    "\n",
    "       * If you pass an immutable object to a method, you still can't rebind the outer reference, and you can't even mutate the object.\n",
    "\n",
    "To make it even more clear, let's have some examples."
   ]
  },
  {
   "cell_type": "markdown",
   "metadata": {},
   "source": [
    "## List - a mutable type\n",
    "### Let's try to modify the list that was passed to a method:"
   ]
  },
  {
   "cell_type": "code",
   "execution_count": 16,
   "metadata": {
    "collapsed": true
   },
   "outputs": [
    {
     "name": "stdout",
     "output_type": "stream",
     "text": [
      "before: outer_list =['one', 'two', 'three'] with id 140522825707912\nrecieved in function to ['one', 'two', 'three'] with id 140522825707912\nchanged in function to ['one', 'two', 'three', 'four'] with id 140522825707912\nafter: outer_list =['one', 'two', 'three', 'four'] with id 140522825707912\n"
     ]
    }
   ],
   "source": [
    "def try_to_change_list_contents(the_list):\n",
    "    print(f'recieved in function to {the_list} with id {id(the_list)}')\n",
    "    the_list.append('four')\n",
    "    print(f'changed in function to {the_list} with id {id(the_list)}')\n",
    "\n",
    "outer_list = ['one', 'two', 'three']\n",
    "\n",
    "print(f'before: outer_list ={outer_list} with id {id(outer_list)}')\n",
    "try_to_change_list_contents(outer_list)\n",
    "print(f'after: outer_list ={outer_list} with id {id(outer_list)}')"
   ]
  },
  {
   "cell_type": "markdown",
   "metadata": {},
   "source": [
    "Since the parameter passed in is a reference to outer_list, not a copy of it, we can use the mutating list methods to change it and have the changes reflected in the outer scope."
   ]
  },
  {
   "cell_type": "markdown",
   "metadata": {},
   "source": [
    "### Now let's see what happens when we try to change the reference that was passed in as a parameter:"
   ]
  },
  {
   "cell_type": "code",
   "execution_count": 15,
   "metadata": {},
   "outputs": [
    {
     "name": "stdout",
     "output_type": "stream",
     "text": [
      "before: outer_list =['we', 'like', 'proper', 'English'] with id 140522825709960\nrecieved in function to ['we', 'like', 'proper', 'English'] with id 140522825709960\nchanged in function to ['and', 'we', 'can', 'not', 'lie'] with id 140522825708616\nafter: outer_list =['we', 'like', 'proper', 'English'] with id 140522825709960\n"
     ]
    }
   ],
   "source": [
    "def try_to_change_list_reference(the_list):\n",
    "    print(f'recieved in function to {the_list} with id {id(the_list)}')\n",
    "    the_list = ['and', 'we', 'can', 'not', 'lie']\n",
    "    print(f'changed in function to {the_list} with id {id(the_list)}')\n",
    "    \n",
    "outer_list = ['we', 'like', 'proper', 'English']\n",
    "\n",
    "print(f'before: outer_list ={outer_list} with id {id(outer_list)}')\n",
    "try_to_change_list_reference(outer_list)\n",
    "print(f'after: outer_list ={outer_list} with id {id(outer_list)}')"
   ]
  },
  {
   "cell_type": "markdown",
   "metadata": {},
   "source": [
    "Since the the_list parameter was passed by value, assigning a new list to it had no effect that the code outside the method could see. The the_list was a copy of the outer_list reference, and we had the_list point to a new list, but there was no way to change where outer_list pointed."
   ]
  },
  {
   "cell_type": "markdown",
   "metadata": {},
   "source": [
    "## String - an immutable type\n",
    "### It's immutable, so there's nothing we can do to change the contents of the string. Now, let's try to change the reference"
   ]
  },
  {
   "cell_type": "code",
   "execution_count": 5,
   "metadata": {
    "collapsed": true
   },
   "outputs": [
    {
     "name": "stdout",
     "output_type": "stream",
     "text": [
      "before, outer_string = It was many and many a year ago\ngot It was many and many a year ago\nset to In a kingdom by the sea\nafter, outer_string = It was many and many a year ago\n"
     ]
    }
   ],
   "source": [
    "def try_to_change_string_reference(the_string):\n",
    "    print('got', the_string)\n",
    "    the_string = 'In a kingdom by the sea'\n",
    "    print('set to', the_string)\n",
    "\n",
    "outer_string = 'It was many and many a year ago'\n",
    "\n",
    "print('before, outer_string =', outer_string)\n",
    "try_to_change_string_reference(outer_string)\n",
    "print('after, outer_string =', outer_string)"
   ]
  },
  {
   "cell_type": "markdown",
   "metadata": {},
   "source": [
    "Again, since the the_string parameter was passed by value, assigning a new string to it had no effect that the code outside the method could see. The the_string was a copy of the outer_string reference, and we had the_string point to a new string, but there was no way to change where outer_string pointed."
   ]
  },
  {
   "cell_type": "markdown",
   "metadata": {},
   "source": [
    "## Another example\n",
    "## Scenario 1 : Mutable object like list"
   ]
  },
  {
   "cell_type": "code",
   "execution_count": 16,
   "metadata": {},
   "outputs": [],
   "source": [
    "def a(inside):\n",
    "    inside[0] = 1\n",
    "    print(\"\\nValue of inside = {0} in a()\".format(inside))\n",
    "\n",
    "\n",
    "def b(inside):\n",
    "    inside = inside + [9]\n",
    "    print(\"\\nValue of inside = {0} in b()\".format(inside))"
   ]
  },
  {
   "cell_type": "code",
   "execution_count": 17,
   "metadata": {},
   "outputs": [
    {
     "name": "stdout",
     "output_type": "stream",
     "text": [
      "\nValue of inside = [1] in a()\n\nValue of outside = [1] after executing a()\n\nValue of inside = [1, 9] in b()\n\nValue of outside = [1] after executing b()\n"
     ]
    }
   ],
   "source": [
    "outside = [0]\n",
    "\n",
    "a(outside)\n",
    "print(\"\\nValue of outside = {0} after executing a()\".format(outside))\n",
    "b(outside)\n",
    "print(\"\\nValue of outside = {0} after executing b()\".format(outside))"
   ]
  },
  {
   "cell_type": "markdown",
   "metadata": {},
   "source": [
    "## Scenario 2 : Immutable object like list"
   ]
  },
  {
   "cell_type": "code",
   "execution_count": 19,
   "metadata": {},
   "outputs": [],
   "source": [
    "def a(inside):\n",
    "    inside = 1\n",
    "    print(\"\\nValue of inside = {0} in a()\".format(inside))\n",
    "\n",
    "\n",
    "def b(inside):\n",
    "    inside = inside + 9\n",
    "    print(\"\\nValue of inside = {0} in b()\".format(inside))\n"
   ]
  },
  {
   "cell_type": "code",
   "execution_count": 20,
   "metadata": {},
   "outputs": [
    {
     "name": "stdout",
     "output_type": "stream",
     "text": [
      "\nValue of inside = 1 in a()\n\nValue of outside = 0 after executing a()\n\nValue of inside = 9 in b()\n\nValue of outside = 0 after executing b()\n"
     ]
    }
   ],
   "source": [
    "outside = 0\n",
    "\n",
    "a(outside)\n",
    "print(\"\\nValue of outside = {0} after executing a()\".format(outside))\n",
    "b(outside)\n",
    "print(\"\\nValue of outside = {0} after executing b()\".format(outside))"
   ]
  },
  {
   "cell_type": "markdown",
   "metadata": {},
   "source": [
    "## String object is immutable in python"
   ]
  },
  {
   "cell_type": "code",
   "execution_count": 25,
   "metadata": {},
   "outputs": [
    {
     "ename": "TypeError",
     "evalue": "'str' object does not support item assignment",
     "traceback": [
      "\u001b[1;31m---------------------------------------------------------------------------\u001b[0m",
      "\u001b[1;31mTypeError\u001b[0m                                 Traceback (most recent call last)",
      "\u001b[1;32m<ipython-input-25-5e8c446c2fa0>\u001b[0m in \u001b[0;36m<module>\u001b[1;34m()\u001b[0m\n\u001b[0;32m      1\u001b[0m \u001b[1;31m# String object is immutable in python\u001b[0m\u001b[1;33m\u001b[0m\u001b[1;33m\u001b[0m\u001b[0m\n\u001b[0;32m      2\u001b[0m \u001b[0mthe_string\u001b[0m \u001b[1;33m=\u001b[0m \u001b[1;34m'In a kingdom by the sea'\u001b[0m\u001b[1;33m\u001b[0m\u001b[0m\n\u001b[1;32m----> 3\u001b[1;33m \u001b[0mthe_string\u001b[0m\u001b[1;33m[\u001b[0m\u001b[1;36m0\u001b[0m\u001b[1;33m]\u001b[0m \u001b[1;33m=\u001b[0m\u001b[1;34m'a'\u001b[0m\u001b[1;33m\u001b[0m\u001b[0m\n\u001b[0m",
      "\u001b[1;31mTypeError\u001b[0m: 'str' object does not support item assignment"
     ],
     "output_type": "error"
    }
   ],
   "source": [
    "# String object is immutable in python\n",
    "the_string = 'In a kingdom by the sea'\n",
    "the_string[0] ='a'"
   ]
  },
  {
   "cell_type": "markdown",
   "metadata": {},
   "source": [
    "# Appendix"
   ]
  },
  {
   "cell_type": "markdown",
   "metadata": {},
   "source": [
    "* https://stackoverflow.com/questions/986006/how-do-i-pass-a-variable-by-reference\n",
    "* https://medium.com/@leeyspaul/what-i-learned-about-pythons-pass-by-assignment-mechanism-5834101fb5c3"
   ]
  },
  {
   "cell_type": "code",
   "execution_count": null,
   "metadata": {},
   "outputs": [],
   "source": []
  }
 ],
 "metadata": {
  "kernelspec": {
   "display_name": "Python 2",
   "language": "python",
   "name": "python2"
  },
  "language_info": {
   "codemirror_mode": {
    "name": "ipython",
    "version": 2
   },
   "file_extension": ".py",
   "mimetype": "text/x-python",
   "name": "python",
   "nbconvert_exporter": "python",
   "pygments_lexer": "ipython2",
   "version": "2.7.6"
  }
 },
 "nbformat": 4,
 "nbformat_minor": 0
}
