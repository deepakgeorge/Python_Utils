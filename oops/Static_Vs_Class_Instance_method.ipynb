{
 "cells": [
  {
   "cell_type": "markdown",
   "metadata": {
    "collapsed": true
   },
   "source": [
    "What is the difference between @staticmethod, @classmethod and instancemethod?"
   ]
  },
  {
   "cell_type": "markdown",
   "metadata": {},
   "source": [
    "    A class method receives the class as implicit first argument, just like an instance method receives the instance. Whereas a @staticmethod doesnt recieve any class related implicit first argument since it doesnt use anything related to the class."
   ]
  },
  {
   "cell_type": "markdown",
   "metadata": {},
   "source": [
    "@classmethod is used when we only class attributes need to be access and not instance attributes."
   ]
  },
  {
   "cell_type": "markdown",
   "metadata": {},
   "source": [
    "# Example of useage of @classsmethod"
   ]
  },
  {
   "cell_type": "code",
   "execution_count": null,
   "metadata": {},
   "outputs": [],
   "source": [
    "class Logger :\n",
    "    ''' Handles logging of debugging and error messages. '''\n",
    "\n",
    "    DEBUG = 5\n",
    "    INFO  = 4\n",
    "    WARN  = 3\n",
    "    ERROR = 2\n",
    "    FATAL = 1\n",
    "    _level = DEBUG\n",
    "\n",
    "    def __init__( self ) :\n",
    "        Logger._level = Logger.DEBUG\n",
    "\n",
    "    @classmethod\n",
    "    def isLevel( cls, level ) :\n",
    "        return cls._level >= level\n",
    "\n",
    "    @classmethod\n",
    "    def debug( cls, message ) :\n",
    "        if cls.isLevel( Logger.DEBUG ) :\n",
    "            print \"DEBUG:  \" + message\n",
    "\n",
    "    @classmethod\n",
    "    def info( cls, message ) :\n",
    "        if cls.isLevel( Logger.INFO ) :\n",
    "            print \"INFO :  \" + message\n",
    "\n",
    "    @classmethod\n",
    "    def warn( cls, message ) :\n",
    "        if cls.isLevel( Logger.WARN ) :\n",
    "            print \"WARN :  \" + message\n",
    "\n",
    "    @classmethod\n",
    "    def error( cls, message ) :\n",
    "        if cls.isLevel( Logger.ERROR ) :\n",
    "            print \"ERROR:  \" + message\n",
    "\n",
    "    @classmethod\n",
    "    def fatal( cls, message ) :\n",
    "        if cls.isLevel( Logger.FATAL ) :\n",
    "            print \"FATAL:  \" + message"
   ]
  },
  {
   "cell_type": "code",
   "execution_count": null,
   "metadata": {},
   "outputs": [],
   "source": [
    "def logAll() :\n",
    "    Logger.debug( \"This is a Debug message.\" )\n",
    "    Logger.info ( \"This is a Info  message.\" )\n",
    "    Logger.warn ( \"This is a Warn  message.\" )\n",
    "    Logger.error( \"This is a Error message.\" )\n",
    "    Logger.fatal( \"This is a Fatal message.\" )\n",
    "\n",
    "if __name__ == '__main__' :\n",
    "\n",
    "    print \"Should see all DEBUG and higher\"\n",
    "    Logger._level = Logger.DEBUG\n",
    "    logAll()\n",
    "\n",
    "    print \"Should see all ERROR and higher\"\n",
    "    Logger._level = Logger.ERROR\n",
    "    logAll()"
   ]
  }
 ],
 "metadata": {
  "kernelspec": {
   "display_name": "Python 3",
   "language": "python",
   "name": "python3"
  },
  "language_info": {
   "codemirror_mode": {
    "name": "ipython",
    "version": 3
   },
   "file_extension": ".py",
   "mimetype": "text/x-python",
   "name": "python",
   "nbconvert_exporter": "python",
   "pygments_lexer": "ipython3",
   "version": "3.7.1"
  }
 },
 "nbformat": 4,
 "nbformat_minor": 1
}
