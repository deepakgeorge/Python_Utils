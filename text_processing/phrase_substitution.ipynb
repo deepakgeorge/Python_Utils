{
 "cells": [
  {
   "cell_type": "markdown",
   "metadata": {
    "collapsed": true
   },
   "source": [
    "## How to replace group of strings in pandas series based on a dictionary with values as list?"
   ]
  },
  {
   "cell_type": "markdown",
   "metadata": {},
   "source": [
    "#### Input"
   ]
  },
  {
   "cell_type": "code",
   "execution_count": 3,
   "metadata": {},
   "outputs": [],
   "source": [
    "import pandas as pd\n",
    "dct  = {\"LOL\": [\"laught out loud\", \"laught-out loud\"],\n",
    "        \"TLDR\": [\"too long didn't read\", \"too long; did not read\"],\n",
    "        \"application\": [\"app\"]}\n",
    "\n",
    "input_df = pd.DataFrame([(\"haha too long didn't read and laught out loud :D\"),\n",
    "                         (\"laught-out loud so I couldnt too long; did not read\"),\n",
    "                         (\"what happened?\")], columns=['text'])"
   ]
  },
  {
   "cell_type": "markdown",
   "metadata": {},
   "source": [
    "#### Excepted Output\n"
   ]
  },
  {
   "cell_type": "code",
   "execution_count": 4,
   "metadata": {},
   "outputs": [],
   "source": [
    "output_df = pd.DataFrame([(\"haha TLDR and LOL :D\"),\n",
    "                          (\"LOL so I couldnt TLDR\"),\n",
    "                          (\"what happened?\")], columns=['text'])"
   ]
  },
  {
   "cell_type": "markdown",
   "metadata": {},
   "source": [
    "Build an inverted mapping and use Series.replace with regex=True\n",
    "Note: rf'' is raw string"
   ]
  },
  {
   "cell_type": "code",
   "execution_count": 7,
   "metadata": {},
   "outputs": [
    {
     "name": "stdout",
     "output_type": "stream",
     "text": [
      "                    text\n0   haha TLDR and LOL :D\n1  LOL so I couldnt TLDR\n2         what happened?\n"
     ]
    }
   ],
   "source": [
    "mapping = {rf'\\b{v}\\b' : k for k, V in dct.items() for v in V}\n",
    "input_df['text'] = input_df['text'].replace(mapping, regex=True)\n",
    "print(input_df)"
   ]
  },
  {
   "cell_type": "markdown",
   "metadata": {},
   "source": [
    "# Reference\n",
    "* https://stackoverflow.com/questions/53077661/how-to-replace-group-of-strings-in-pandas-series-based-on-a-dictionary-with-valu/"
   ]
  }
 ],
 "metadata": {
  "kernelspec": {
   "display_name": "Python 2",
   "language": "python",
   "name": "python2"
  },
  "language_info": {
   "codemirror_mode": {
    "name": "ipython",
    "version": 2
   },
   "file_extension": ".py",
   "mimetype": "text/x-python",
   "name": "python",
   "nbconvert_exporter": "python",
   "pygments_lexer": "ipython2",
   "version": "2.7.6"
  }
 },
 "nbformat": 4,
 "nbformat_minor": 0
}
